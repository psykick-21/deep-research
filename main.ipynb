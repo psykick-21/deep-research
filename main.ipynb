{
 "cells": [
  {
   "cell_type": "code",
   "execution_count": 1,
   "metadata": {},
   "outputs": [],
   "source": [
    "from deep_research.graph import agent_graph\n",
    "from IPython.display import Image, display\n",
    "import uuid"
   ]
  },
  {
   "cell_type": "code",
   "execution_count": null,
   "metadata": {},
   "outputs": [],
   "source": [
    "display(Image(agent_graph.get_graph(xray=1).draw_mermaid_png()))"
   ]
  },
  {
   "cell_type": "code",
   "execution_count": 3,
   "metadata": {},
   "outputs": [],
   "source": [
    "TOPIC = \"Support Vector Machines\"\n",
    "OUTLINE = \"I am studying machine learning and I want to understand Support Vector Machines.\""
   ]
  },
  {
   "cell_type": "code",
   "execution_count": 4,
   "metadata": {},
   "outputs": [],
   "source": [
    "thread = {\n",
    "    \"configurable\": {\n",
    "        \"thread_id\": str(uuid.uuid4()),\n",
    "        \"max_queries\": 2,\n",
    "        \"search_depth\": 2,\n",
    "        \"num_reflections\": 2,\n",
    "        \"provider\": \"openai\",\n",
    "        \"model\": \"gpt-4o-mini\",\n",
    "        \"temperature\": 0.3\n",
    "    }\n",
    "}"
   ]
  },
  {
   "cell_type": "code",
   "execution_count": null,
   "metadata": {},
   "outputs": [],
   "source": [
    "\n",
    "for event in agent_graph.stream(\n",
    "    {\"topic\": TOPIC, \"outline\": OUTLINE},\n",
    "    config=thread,\n",
    "):\n",
    "    with open(\"logs/agent_logs.txt\", \"a\") as f:\n",
    "        f.write(str(event))\n",
    "        f.write(\"\\n\\n\\n\")\n",
    "\n",
    "    if \"report_structure_planner\" in event:\n",
    "        print(\"<<< REPORT STRUCTURE PLANNER >>>\")\n",
    "        print(event[\"report_structure_planner\"][\"messages\"][-1].content)\n",
    "        print(\"\\n\", \"=\"*100, \"\\n\")\n",
    "\n",
    "    elif \"section_formatter\" in event:\n",
    "        pass\n",
    "\n",
    "    elif \"research_agent\" in event:\n",
    "        pass\n",
    "\n",
    "    elif \"human_feedback\" in event:\n",
    "        print(\"<<< HUMAN FEEDBACK >>>\")\n",
    "        print(event[\"human_feedback\"][\"messages\"][-1].content)\n",
    "        print(\"\\n\", \"=\"*100, \"\\n\")\n",
    "\n",
    "    elif \"queue_next_section\" in event:\n",
    "        pass\n",
    "\n",
    "    elif \"finalizer\" in event:\n",
    "        print(\"Final report complete.\")\n",
    "        \n",
    "    else:\n",
    "        print(\"<<< UNKNOWN EVENT >>>\")\n",
    "        print(event)\n",
    "        print(\"\\n\", \"=\"*100, \"\\n\")"
   ]
  }
 ],
 "metadata": {
  "kernelspec": {
   "display_name": "Python 3",
   "language": "python",
   "name": "python3"
  },
  "language_info": {
   "codemirror_mode": {
    "name": "ipython",
    "version": 3
   },
   "file_extension": ".py",
   "mimetype": "text/x-python",
   "name": "python",
   "nbconvert_exporter": "python",
   "pygments_lexer": "ipython3",
   "version": "3.12.9"
  }
 },
 "nbformat": 4,
 "nbformat_minor": 2
}
